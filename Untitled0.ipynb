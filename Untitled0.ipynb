{
  "nbformat": 4,
  "nbformat_minor": 0,
  "metadata": {
    "colab": {
      "name": "Untitled0.ipynb",
      "provenance": [],
      "authorship_tag": "ABX9TyPaHN5suXnUcwH+ZwJAxkx8",
      "include_colab_link": true
    },
    "kernelspec": {
      "name": "python3",
      "display_name": "Python 3"
    }
  },
  "cells": [
    {
      "cell_type": "markdown",
      "metadata": {
        "id": "view-in-github",
        "colab_type": "text"
      },
      "source": [
        "<a href=\"https://colab.research.google.com/github/jawadkhan88/3dbuttons/blob/main/Untitled0.ipynb\" target=\"_parent\"><img src=\"https://colab.research.google.com/assets/colab-badge.svg\" alt=\"Open In Colab\"/></a>"
      ]
    },
    {
      "cell_type": "code",
      "metadata": {
        "id": "JNYLpZpzWXi0"
      },
      "source": [
        "import numpy as np\r\n",
        "import matplotlib.pyplot as plt\r\n",
        "import tensorflow as tf\r\n",
        "from tensorflow.keras.layers import Input, Dense, Conv2D, Activation, MaxPool2D\r\n",
        "from tensorflow.keras.layers import BatchNormalization, Flatten, Reshape, Conv2DTranspose, LeakyReLU\r\n",
        "from tensorflow.keras.models import Model\r\n",
        "from tensorflow.keras.optimizers import Adam, SGD"
      ],
      "execution_count": 1,
      "outputs": []
    },
    {
      "cell_type": "code",
      "metadata": {
        "id": "XrM0mWA2WlBt"
      },
      "source": [
        "np.random.seed(42)\r\n",
        "tf.random.set_seed(42)"
      ],
      "execution_count": 2,
      "outputs": []
    },
    {
      "cell_type": "code",
      "metadata": {
        "colab": {
          "base_uri": "https://localhost:8080/"
        },
        "id": "HbJIMZsCWqR5",
        "outputId": "fc693e38-6925-4ae0-ed43-5423675e97dd"
      },
      "source": [
        "dataset = tf.keras.datasets.fashion_mnist\r\n",
        "(x_train, y_train),(x_test, y_test) = dataset.load_data()\r\n",
        "x_train, x_test = x_train / 255.0, x_test / 255.0"
      ],
      "execution_count": 4,
      "outputs": [
        {
          "output_type": "stream",
          "text": [
            "Downloading data from https://storage.googleapis.com/tensorflow/tf-keras-datasets/train-labels-idx1-ubyte.gz\n",
            "32768/29515 [=================================] - 0s 0us/step\n",
            "Downloading data from https://storage.googleapis.com/tensorflow/tf-keras-datasets/train-images-idx3-ubyte.gz\n",
            "26427392/26421880 [==============================] - 0s 0us/step\n",
            "Downloading data from https://storage.googleapis.com/tensorflow/tf-keras-datasets/t10k-labels-idx1-ubyte.gz\n",
            "8192/5148 [===============================================] - 0s 0us/step\n",
            "Downloading data from https://storage.googleapis.com/tensorflow/tf-keras-datasets/t10k-images-idx3-ubyte.gz\n",
            "4423680/4422102 [==============================] - 0s 0us/step\n"
          ],
          "name": "stdout"
        }
      ]
    },
    {
      "cell_type": "code",
      "metadata": {
        "colab": {
          "base_uri": "https://localhost:8080/"
        },
        "id": "MVS9R_nVW321",
        "outputId": "b4c990b9-ba93-49af-cc33-5ee6dc2a4756"
      },
      "source": [
        "H= 28\r\n",
        "W = 28\r\n",
        "C = 1\r\n",
        "\r\n",
        "## Latent space\r\n",
        "latent_dim = 128\r\n",
        "inputs = Input(shape=(H, W, C), name=\"inputs\")\r\n",
        "x = inputs\r\n",
        "x = Conv2D(32, (3, 3), padding=\"same\")(x)\r\n",
        "x = BatchNormalization()(x)\r\n",
        "x = LeakyReLU(alpha=0.2)(x)\r\n",
        "x = MaxPool2D((2, 2))(x)\r\n",
        "\r\n",
        "x = Conv2D(64, (3, 3), padding=\"same\")(x)\r\n",
        "x = BatchNormalization()(x)\r\n",
        "x = LeakyReLU(alpha=0.2)(x)\r\n",
        "x = MaxPool2D((2, 2))(x)\r\n",
        "x = Flatten()(x)\r\n",
        "units = x.shape[1]\r\n",
        "x = Dense(latent_dim, name=\"latent\")(x)\r\n",
        "x = Dense(units)(x)\r\n",
        "x = LeakyReLU(alpha=0.2)(x)\r\n",
        "x = Reshape((7, 7, 64))(x)\r\n",
        "x = Conv2DTranspose(64, (3, 3), strides=2, padding=\"same\")(x)\r\n",
        "x = BatchNormalization()(x)\r\n",
        "x = LeakyReLU(alpha=0.2)(x)\r\n",
        "\r\n",
        "x = Conv2DTranspose(1, (3, 3), strides=2, padding=\"same\")(x)\r\n",
        "x = BatchNormalization()(x)\r\n",
        "x = Activation(\"sigmoid\", name=\"outputs\")(x)\r\n",
        "\r\n",
        "outputs = x\r\n",
        "autoencoder = Model(inputs, outputs)\r\n",
        "autoencoder.compile(optimizer=Adam(1e-3), loss='binary_crossentropy')\r\n",
        "autoencoder.summary()\r\n",
        "autoencoder.fit(\r\n",
        "    x_train,\r\n",
        "    x_train,\r\n",
        "    epochs=20,\r\n",
        "    batch_size=256,\r\n",
        "    shuffle=False,\r\n",
        "    validation_data=(x_test, x_test)\r\n",
        ")\r\n",
        "test_pred_y = autoencoder.predict(x_test)\r\n",
        "n = 10  \r\n",
        "## how many digits we will display\r\n",
        "plt.figure(figsize=(20, 4))\r\n",
        "for i in range(n):\r\n",
        "    ## display original\r\n",
        "    ax = plt.subplot(2, n, i + 1)\r\n",
        "    ax.set_title(\"Original Image\")\r\n",
        "    plt.imshow(x_test[i].reshape(H, W))\r\n",
        "    plt.gray()\r\n",
        "    ax.get_xaxis().set_visible(False)\r\n",
        "    ax.get_yaxis().set_visible(False)\r\n",
        "\r\n",
        "    ## display reconstruction\r\n",
        "    ax = plt.subplot(2, n, i + 1 + n)\r\n",
        "    ax.set_title(\"Predicted Image\")\r\n",
        "    plt.imshow(test_pred_y[i].reshape(H, W))\r\n",
        "    plt.gray()\r\n",
        "    ax.get_xaxis().set_visible(False)\r\n",
        "    ax.get_yaxis().set_visible(False)\r\n",
        "plt.savefig(\"simple.png\")"
      ],
      "execution_count": null,
      "outputs": [
        {
          "output_type": "stream",
          "text": [
            "Model: \"model\"\n",
            "_________________________________________________________________\n",
            "Layer (type)                 Output Shape              Param #   \n",
            "=================================================================\n",
            "inputs (InputLayer)          [(None, 28, 28, 1)]       0         \n",
            "_________________________________________________________________\n",
            "conv2d (Conv2D)              (None, 28, 28, 32)        320       \n",
            "_________________________________________________________________\n",
            "batch_normalization (BatchNo (None, 28, 28, 32)        128       \n",
            "_________________________________________________________________\n",
            "leaky_re_lu (LeakyReLU)      (None, 28, 28, 32)        0         \n",
            "_________________________________________________________________\n",
            "max_pooling2d (MaxPooling2D) (None, 14, 14, 32)        0         \n",
            "_________________________________________________________________\n",
            "conv2d_1 (Conv2D)            (None, 14, 14, 64)        18496     \n",
            "_________________________________________________________________\n",
            "batch_normalization_1 (Batch (None, 14, 14, 64)        256       \n",
            "_________________________________________________________________\n",
            "leaky_re_lu_1 (LeakyReLU)    (None, 14, 14, 64)        0         \n",
            "_________________________________________________________________\n",
            "max_pooling2d_1 (MaxPooling2 (None, 7, 7, 64)          0         \n",
            "_________________________________________________________________\n",
            "flatten (Flatten)            (None, 3136)              0         \n",
            "_________________________________________________________________\n",
            "latent (Dense)               (None, 128)               401536    \n",
            "_________________________________________________________________\n",
            "dense (Dense)                (None, 3136)              404544    \n",
            "_________________________________________________________________\n",
            "leaky_re_lu_2 (LeakyReLU)    (None, 3136)              0         \n",
            "_________________________________________________________________\n",
            "reshape (Reshape)            (None, 7, 7, 64)          0         \n",
            "_________________________________________________________________\n",
            "conv2d_transpose (Conv2DTran (None, 14, 14, 64)        36928     \n",
            "_________________________________________________________________\n",
            "batch_normalization_2 (Batch (None, 14, 14, 64)        256       \n",
            "_________________________________________________________________\n",
            "leaky_re_lu_3 (LeakyReLU)    (None, 14, 14, 64)        0         \n",
            "_________________________________________________________________\n",
            "conv2d_transpose_1 (Conv2DTr (None, 28, 28, 1)         577       \n",
            "_________________________________________________________________\n",
            "batch_normalization_3 (Batch (None, 28, 28, 1)         4         \n",
            "_________________________________________________________________\n",
            "outputs (Activation)         (None, 28, 28, 1)         0         \n",
            "=================================================================\n",
            "Total params: 863,045\n",
            "Trainable params: 862,723\n",
            "Non-trainable params: 322\n",
            "_________________________________________________________________\n",
            "Epoch 1/20\n",
            "235/235 [==============================] - 133s 560ms/step - loss: 0.5103 - val_loss: 0.5113\n",
            "Epoch 2/20\n",
            "235/235 [==============================] - 154s 654ms/step - loss: 0.4007 - val_loss: 0.3935\n",
            "Epoch 3/20\n",
            "235/235 [==============================] - 150s 636ms/step - loss: 0.3582 - val_loss: 0.3519\n",
            "Epoch 4/20\n",
            "235/235 [==============================] - 141s 600ms/step - loss: 0.3312 - val_loss: 0.3251\n",
            "Epoch 5/20\n",
            "217/235 [==========================>...] - ETA: 10s - loss: 0.3131"
          ],
          "name": "stdout"
        }
      ]
    }
  ]
}